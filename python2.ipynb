{
  "nbformat": 4,
  "nbformat_minor": 0,
  "metadata": {
    "colab": {
      "name": "python2.ipynb",
      "provenance": [],
      "collapsed_sections": [],
      "authorship_tag": "ABX9TyPlHW76hw03vn3ZTrYJjBB5",
      "include_colab_link": true
    },
    "kernelspec": {
      "name": "python3",
      "display_name": "Python 3"
    },
    "language_info": {
      "name": "python"
    }
  },
  "cells": [
    {
      "cell_type": "markdown",
      "metadata": {
        "id": "view-in-github",
        "colab_type": "text"
      },
      "source": [
        "<a href=\"https://colab.research.google.com/github/sahooaditya/ADITYA/blob/master/python2.ipynb\" target=\"_parent\"><img src=\"https://colab.research.google.com/assets/colab-badge.svg\" alt=\"Open In Colab\"/></a>"
      ]
    },
    {
      "cell_type": "code",
      "metadata": {
        "colab": {
          "base_uri": "https://localhost:8080/"
        },
        "id": "WrQCaSPriNSN",
        "outputId": "d7322372-dada-47e9-b591-27a28e21e004"
      },
      "source": [
        "print(\"What's your favorite color?\")\n",
        "color = input()\n",
        "print(\"Your color is: \" + color)"
      ],
      "execution_count": 3,
      "outputs": [
        {
          "output_type": "stream",
          "text": [
            "What's your favorite color?\n",
            "hello\n",
            "Your color is: hello\n"
          ],
          "name": "stdout"
        }
      ]
    },
    {
      "cell_type": "code",
      "metadata": {
        "colab": {
          "base_uri": "https://localhost:8080/"
        },
        "id": "P5ljteoomTAw",
        "outputId": "bd98bcea-908e-44a7-c2da-76abd2ff0de5"
      },
      "source": [
        "name = \"humayun\"\n",
        "\n",
        "if name is \"humayun\":\n",
        "    print(\"First Name\")\n",
        "elif name is \"kabir\":\n",
        "    print(\"Last Name\")\n",
        "else:\n",
        "    print(\"Wrong Name\")\n",
        "\n",
        "name = \"kabir\"\n",
        "if name == \"humayun\":\n",
        "    print(\"First Name\")\n",
        "elif name == \"kabir\":\n",
        "    print(\"Last Name\")\n",
        "else:\n",
        "    print(\"Wrong Name\")"
      ],
      "execution_count": 2,
      "outputs": [
        {
          "output_type": "stream",
          "text": [
            "First Name\n",
            "Last Name\n"
          ],
          "name": "stdout"
        }
      ]
    },
    {
      "cell_type": "code",
      "metadata": {
        "colab": {
          "base_uri": "https://localhost:8080/"
        },
        "id": "KK_kfXeYpUWh",
        "outputId": "4f5f3c3b-c341-41f3-90d9-23adc68f4c4c"
      },
      "source": [
        "print(\"Give a rating on my work(out of 5)!\")\n",
        "rate = int(input())\n",
        "\n",
        "if rate is 5:\n",
        "    print(\"Excellent\")\n",
        "elif rate is 4:\n",
        "    print(\"Very Good\")\n",
        "elif rate is 3:\n",
        "    print(\"Good\")\n",
        "elif rate is 2:\n",
        "    print(\"Not Good\")\n",
        "elif rate is 1:\n",
        "    print(\"Bad\")\n",
        "else:\n",
        "    print(\"Rating should be in 1 to 5\")"
      ],
      "execution_count": 6,
      "outputs": [
        {
          "output_type": "stream",
          "text": [
            "Give a rating on my work(out of 5)!\n",
            "10\n",
            "Rating should be in 1 to 5\n"
          ],
          "name": "stdout"
        }
      ]
    },
    {
      "cell_type": "code",
      "metadata": {
        "colab": {
          "base_uri": "https://localhost:8080/"
        },
        "id": "M3hMimTSrdaH",
        "outputId": "1ac81b30-f972-4f2b-ec40-9099fefd25be"
      },
      "source": [
        "age, sex = 20, \"Female\"\n",
        "\n",
        "if age > 18 :\n",
        "    print(\"Go and Get Marry\")\n",
        "    if age > 16:\n",
        "      print(\"female\")\n",
        "\n",
        "else:\n",
        "    print(\"You don't have marry\")"
      ],
      "execution_count": 10,
      "outputs": [
        {
          "output_type": "stream",
          "text": [
            "Go and Get Marry\n",
            "female\n"
          ],
          "name": "stdout"
        }
      ]
    },
    {
      "cell_type": "code",
      "metadata": {
        "colab": {
          "base_uri": "https://localhost:8080/"
        },
        "id": "iVfX02tRtD7Z",
        "outputId": "b7902d23-428f-4a9a-dee7-4845af0795d2"
      },
      "source": [
        "name = \"Divineai\"\n",
        "\n",
        "for char in name:\n",
        "    print(char)\n",
        "# range(a, b, c): >=a to < b, c is the weight of each step[optional]\n",
        "for number in range(-3, 5, 2):\n",
        "    print(number)\n",
        "\n",
        "prices = [10, 12, 15, 9, 11, 13]\n",
        "\n",
        "for price in prices:\n",
        "    print(price)\n",
        "\n",
        "for _ in range(4):\n",
        "    print(\"lol\")\n"
      ],
      "execution_count": 14,
      "outputs": [
        {
          "output_type": "stream",
          "text": [
            "D\n",
            "i\n",
            "v\n",
            "i\n",
            "n\n",
            "e\n",
            "a\n",
            "i\n",
            "-3\n",
            "-1\n",
            "1\n",
            "3\n",
            "10\n",
            "12\n",
            "15\n",
            "9\n",
            "11\n",
            "13\n",
            "lol\n",
            "lol\n",
            "lol\n",
            "lol\n"
          ],
          "name": "stdout"
        }
      ]
    },
    {
      "cell_type": "code",
      "metadata": {
        "colab": {
          "base_uri": "https://localhost:8080/"
        },
        "id": "nXt_kqC2ukc-",
        "outputId": "f8bb58e1-3dde-4ca9-90b3-1241cb77db27"
      },
      "source": [
        "for number in range(-3, 5, 2):\n",
        "    print(number)"
      ],
      "execution_count": 15,
      "outputs": [
        {
          "output_type": "stream",
          "text": [
            "-3\n",
            "-1\n",
            "1\n",
            "3\n"
          ],
          "name": "stdout"
        }
      ]
    },
    {
      "cell_type": "code",
      "metadata": {
        "colab": {
          "base_uri": "https://localhost:8080/"
        },
        "id": "ri1e0nr2u6SG",
        "outputId": "1aefb0c9-2720-404b-9064-5b89f6a488b0"
      },
      "source": [
        "val = 1\n",
        "\n",
        "while val < 20:\n",
        "    print(val)\n",
        "    val += 4\n",
        "\n",
        "print(\"what's the password?\")\n",
        "msg = input()\n",
        "while msg != \"lana\":\n",
        "    print(\"WRONG!\")\n",
        "    print(\"what's the password?\")\n",
        "    msg = input()\n",
        "print(\"CORRECT!\")"
      ],
      "execution_count": 16,
      "outputs": [
        {
          "output_type": "stream",
          "text": [
            "1\n",
            "5\n",
            "9\n",
            "13\n",
            "17\n",
            "what's the password?\n",
            "2\n",
            "WRONG!\n",
            "what's the password?\n",
            "lana\n",
            "CORRECT!\n"
          ],
          "name": "stdout"
        }
      ]
    },
    {
      "cell_type": "code",
      "metadata": {
        "colab": {
          "base_uri": "https://localhost:8080/"
        },
        "id": "VwiJm9N7vWjk",
        "outputId": "6419d5ae-3b57-42fb-8121-e4451e6e64e3"
      },
      "source": [
        "val = 1\n",
        "\n",
        "while val < 20:\n",
        "    print(val)\n",
        "    val += 4"
      ],
      "execution_count": 17,
      "outputs": [
        {
          "output_type": "stream",
          "text": [
            "1\n",
            "5\n",
            "9\n",
            "13\n",
            "17\n"
          ],
          "name": "stdout"
        }
      ]
    },
    {
      "cell_type": "code",
      "metadata": {
        "colab": {
          "base_uri": "https://localhost:8080/"
        },
        "id": "U_fhRTZ0wKhb",
        "outputId": "dd8d85ab-618f-40ed-e7c4-c2b1810c1d88"
      },
      "source": [
        "num = 7\n",
        "for times in range(num):\n",
        "    for x in range(times):\n",
        "        print(\"\\U0001f600\", end=' ')\n",
        "    print()"
      ],
      "execution_count": 18,
      "outputs": [
        {
          "output_type": "stream",
          "text": [
            "\n",
            "😀 \n",
            "😀 😀 \n",
            "😀 😀 😀 \n",
            "😀 😀 😀 😀 \n",
            "😀 😀 😀 😀 😀 \n",
            "😀 😀 😀 😀 😀 😀 \n"
          ],
          "name": "stdout"
        }
      ]
    },
    {
      "cell_type": "code",
      "metadata": {
        "colab": {
          "base_uri": "https://localhost:8080/"
        },
        "id": "argoPJBsxGme",
        "outputId": "277aae36-ed8c-48de-9d54-fb349c3dacf5"
      },
      "source": [
        "num = 1\n",
        "\n",
        "while num < 7:\n",
        "    x = 1\n",
        "    while x <= num:\n",
        "        print(\"\\U0001f605\", end=' ')\n",
        "        x += 1\n",
        "    print()\n",
        "    num += 1"
      ],
      "execution_count": 25,
      "outputs": [
        {
          "output_type": "stream",
          "text": [
            "😅 \n",
            "😅 😅 \n",
            "😅 😅 😅 \n",
            "😅 😅 😅 😅 \n",
            "😅 😅 😅 😅 😅 \n",
            "😅 😅 😅 😅 😅 😅 \n"
          ],
          "name": "stdout"
        }
      ]
    },
    {
      "cell_type": "markdown",
      "metadata": {
        "id": "Ds9pCiI5iUOE"
      },
      "source": [
        "input user"
      ]
    }
  ]
}